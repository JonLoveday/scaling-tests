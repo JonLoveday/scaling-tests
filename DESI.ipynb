{
 "cells": [
  {
   "cell_type": "code",
   "execution_count": 2,
   "id": "f8952e88-6ed9-4799-ad05-ad337125be12",
   "metadata": {
    "tags": []
   },
   "outputs": [
    {
     "name": "stdout",
     "output_type": "stream",
     "text": [
      "ncores=128\n"
     ]
    }
   ],
   "source": [
    "from astropy.coordinates import SkyCoord\n",
    "from astropy.table import Table\n",
    "from astropy import units as u\n",
    "import glob\n",
    "from importlib import reload\n",
    "import matplotlib.pyplot as plt\n",
    "import numpy as np\n",
    "import pdb\n",
    "import pickle\n",
    "import desi\n",
    "import wcorr"
   ]
  },
  {
   "cell_type": "code",
   "execution_count": 16,
   "id": "744b36f0-62ff-47d8-a236-9ab30610078a",
   "metadata": {
    "tags": []
   },
   "outputs": [
    {
     "name": "stdout",
     "output_type": "stream",
     "text": [
      "[0.05257646 1.74439053] [[ 1.13647074e-05 -5.78997948e-05]\n",
      " [-5.78997948e-05  3.31964284e-04]]\n",
      "[0.05810691 1.67501338] [[ 2.71049921e-06 -1.29506813e-05]\n",
      " [-1.29506813e-05  6.84556635e-05]]\n",
      "[0.05131122 1.66541422] [[ 3.83567519e-06 -1.98499896e-05]\n",
      " [-1.98499896e-05  1.08805250e-04]]\n",
      "[0.03754064 1.72739524] [[ 1.76410898e-06 -1.40381678e-05]\n",
      " [-1.40381678e-05  1.22239578e-04]]\n",
      "[0.03872865 1.7476325 ] [[ 1.09949950e-05 -7.49240186e-05]\n",
      " [-7.49240186e-05  5.63418233e-04]]\n"
     ]
    },
    {
     "data": {
      "image/png": "[encoded data removed]",
      "text/plain": [
       "<Figure size 432x288 with 1 Axes>"
      ]
     },
     "metadata": {
      "needs_background": "light"
     },
     "output_type": "display_data"
    }
   ],
   "source": [
    "reload(desi)\n",
    "desi.w_plot(prefix='/pscratch/sd/l/loveday/DESI/w_N/', fit_range=[0.01, 2])"
   ]
  },
  {
   "cell_type": "code",
   "execution_count": 9,
   "id": "f0490722-3c06-4c4f-848e-4a1adc12608b",
   "metadata": {
    "tags": []
   },
   "outputs": [],
   "source": [
    "def legacy_desi(maglim=23, rlim=5.0*u.deg, r_radius=2.0*u.deg,\n",
    "                ranfile='randoms-south-1-0.fits',\n",
    "                galout='/pscratch/sd/l/loveday/Legacy/legacy_desi.fits',\n",
    "                ranout='/pscratch/sd/l/loveday/Legacy/legacy_desi_ran.fits'):\n",
    "    \"\"\"Compile Legacy DR10 data within the 20 DESI EDR rosettes.\"\"\"\n",
    "\n",
    "    # Rosette centres\n",
    "    rcen = np.array([[150.10, 2.182], [179.60, 0.000], [183.10, 0.000],\n",
    "            [189.90, 61.800], [194.75, 28.200], [210.00, 5.000], \n",
    "            [215.50, 52.500], [217.80, 34.400], [216.30, -0.600], \n",
    "            [219.80, -0.600], [218.05, 2.430], [242.75, 54.980],\n",
    "            [241.05, 43.450], [245.88, 43.450], [252.50, 34.500],\n",
    "            [269.73, 66.020], [194.75, 24.700], [212.80, -0.600],\n",
    "            [269.73, 62.520], [236.10, 43.450]])\n",
    "    rcoords = SkyCoord(rcen[:, 0], rcen[:, 1], frame='icrs', unit='deg')\n",
    "\n",
    "    # Sweep centres\n",
    "    path = '/global/cfs/cdirs/cosmo/data/legacysurvey/dr10/south/sweep/10.0/'\n",
    "    sweeps = np.array(glob.glob(path + 'sweep*.fits'))\n",
    "    ras, decs = [], []\n",
    "    for sweep in sweeps:\n",
    "        # Check if sweep centre lies within rlim of a rosette centre\n",
    "        ralo = int(sweep[-20:-17])\n",
    "        declo = int(sweep[-16:-13])\n",
    "        sign = sweep[-17]\n",
    "        if sign == 'm':\n",
    "            declo = -declo\n",
    "        rahi = int(sweep[-12:-9])\n",
    "        dechi = int(sweep[-8:-5])\n",
    "        sign = sweep[-9]\n",
    "        if sign == 'm':\n",
    "            dechi = -dechi\n",
    "        ras.append(0.5*(ralo + rahi))\n",
    "        decs.append(0.5*(declo + dechi))\n",
    "    scoords = SkyCoord(ras, decs, frame='icrs', unit='deg')\n",
    "\n",
    "    # Find sweeps that lie within distance rlim of a rosette\n",
    "    idxr, idxs, d2d, d3d = scoords.search_around_sky(rcoords, rlim)\n",
    "    sweeps = sweeps[np.unique(idxs)]\n",
    "    print('Using sweeps: ', np.unique(idxs), sweeps)\n",
    "        \n",
    "    # Extract Legacy sources with mag_z < maglim that lie within r_radius of a rosette\n",
    "    # NB Rosette id corresponds to first rosette a source is associated with, not the closest\n",
    "    ra, dec, mag = np.array(()), np.array(()), np.array(())\n",
    "    ltype, rosette = np.array((), dtype=np.int32), np.array((), dtype=np.int32)\n",
    "    for sweep in sweeps:\n",
    "        t = Table.read(sweep)\n",
    "        # gal = (t['TYPE'] != 'PSF') * (t['TYPE'] != 'DUP')\n",
    "        # t = t[gal]\n",
    "        # Mask cuts\n",
    "        frac_g = ((t['FRACMASKED_G'] < 0.4) * (t['FRACIN_G'] > 0.3) * (t['FRACFLUX_G'] < 5))\n",
    "        frac_r = ((t['FRACMASKED_R'] < 0.4) * (t['FRACIN_R'] > 0.3) * (t['FRACFLUX_R'] < 5))\n",
    "        frac_z = ((t['FRACMASKED_Z'] < 0.4) * (t['FRACIN_Z'] > 0.3) * (t['FRACFLUX_Z'] < 5))\n",
    "        frac = (frac_g * frac_r) + (frac_g * frac_z) + (frac_r * frac_z)\n",
    "        sel = (t['TYPE'] != 'DUP') * (t['MASKBITS'] == 0) * frac\n",
    "        t = t[sel]\n",
    "        \n",
    "        # Mag and colour cuts\n",
    "        flux_g = t['FLUX_G']/t['MW_TRANSMISSION_G']\n",
    "        flux_r = t['FLUX_R']/t['MW_TRANSMISSION_R']\n",
    "        flux_z = t['FLUX_Z']/t['MW_TRANSMISSION_Z']\n",
    "        good = (flux_g > 0) * (flux_g < 1e6) * (flux_g > 0) * (flux_g < 1e6) * (flux_z > 0) * (flux_z < 1e6)\n",
    "        t = t[good]\n",
    "        mag_g = 22.5 - 2.5*np.log10(flux_g[good])\n",
    "        mag_r = 22.5 - 2.5*np.log10(flux_r[good])\n",
    "        mag_z = 22.5 - 2.5*np.log10(flux_z[good])\n",
    "        sel = (mag_z < maglim) * (mag_g - mag_r > -1) * (mag_g - mag_r < 4) * (mag_r - mag_z > -1) * (mag_r - mag_z < 4)\n",
    "        t = t[sel]        \n",
    "        mag_z = mag_z[sel]\n",
    "        \n",
    "        gcoords = SkyCoord(t['RA'], t['DEC'], frame='icrs', unit='deg')\n",
    "        idxr, idxg, d2d, d3d = gcoords.search_around_sky(rcoords, r_radius)\n",
    "        idxg, ridx = np.unique(idxg, return_index=True)\n",
    "        ra = np.hstack((ra, t['RA'][idxg]))\n",
    "        dec = np.hstack((dec, t['DEC'][idxg]))\n",
    "        mag = np.hstack((mag, mag_z[idxg]))\n",
    "        ltype = np.hstack((ltype, t['TYPE'][idxg]))\n",
    "        rosette = np.hstack((rosette, idxr[ridx]))\n",
    "        print(sweep, len(mag_z[idxg]))\n",
    "        \n",
    "    # Write out the selected galaxies\n",
    "    t = Table((ra, dec, mag, rosette), names=('RA', 'DEC', 'Z_MAG', 'ROSETTE'))\n",
    "    t.write(galout, overwrite=True)\n",
    "    print(len(ra), 'total galaxies')\n",
    "    \n",
    "    # Now the randoms\n",
    "    ra, dec, rosette = np.array(()), np.array(()), np.array((), dtype=np.int32)\n",
    "    path = '/global/cfs/cdirs/cosmo/data/legacysurvey/dr10/south/randoms/'\n",
    "    t = Table.read(path + ranfile)\n",
    "    sel = t['MASKBITS'] == 0\n",
    "    t = t[sel]\n",
    "    gcoords = SkyCoord(t['RA'], t['DEC'], frame='icrs', unit='deg')\n",
    "    idxr, idxg, d2d, d3d = gcoords.search_around_sky(rcoords, r_radius)\n",
    "    idxg, ridx = np.unique(idxg, return_index=True)\n",
    "    ra = np.hstack((ra, t['RA'][idxg]))\n",
    "    dec = np.hstack((dec, t['DEC'][idxg]))\n",
    "    rosette = np.hstack((rosette, idxr[ridx]))\n",
    "    t = Table((ra, dec, rosette), names=('RA', 'DEC', 'ROSETTE'))\n",
    "    t.write(ranout, overwrite=True)\n",
    "    print(len(ra), 'total randoms')\n"
   ]
  },
  {
   "cell_type": "code",
   "execution_count": 15,
   "id": "2e54a643-5795-40f8-b57a-4d4f92984ae7",
   "metadata": {
    "tags": []
   },
   "outputs": [
    {
     "name": "stdout",
     "output_type": "stream",
     "text": [
      "[0 1 2 2] [0 0 0 1] [5d38m57.78578616s 4d56m33.19791725s 4d14m09.09316443s 5d38m43.84603596s] [0.09856043 0.08623711 0.07391285 0.09849293]\n",
      "4 4 4 4\n",
      "[0 1 2] [0 0 0]\n"
     ]
    }
   ],
   "source": [
    "c1 = SkyCoord([0, 0.5, 1], [2, 2.5, 3], frame='icrs', unit='deg')\n",
    "c2 = SkyCoord([4, 5], [6, 7], frame='icrs', unit='deg')\n",
    "idx2, idx1, d2d, d3d = c1.search_around_sky(c2, 6.0*u.deg)\n",
    "print(idx1, idx2, d2d, d3d)\n",
    "print(len(idx1), len(idx2), len(d2d), len(d3d))\n",
    "unique, ridx, counts = np.unique(idx1, return_index=True, return_counts=1)\n",
    "print(unique, idx2[ridx])"
   ]
  },
  {
   "cell_type": "code",
   "execution_count": 10,
   "id": "ed7e1cce-1e04-41a1-945a-bff0be6324a9",
   "metadata": {
    "tags": []
   },
   "outputs": [
    {
     "name": "stdout",
     "output_type": "stream",
     "text": [
      "Using sweeps:  [   6   15   46   49   59   60  104  165  166  238  344  361  557  620\n",
      "  664  756  795  857  957  973 1006 1018 1043 1120 1132 1156 1165 1322\n",
      " 1330 1365] ['/global/cfs/cdirs/cosmo/data/legacysurvey/dr10/south/sweep/10.0/sweep-190p025-195p030.fits'\n",
      " '/global/cfs/cdirs/cosmo/data/legacysurvey/dr10/south/sweep/10.0/sweep-215p000-220p005.fits'\n",
      " '/global/cfs/cdirs/cosmo/data/legacysurvey/dr10/south/sweep/10.0/sweep-210p000-215p005.fits'\n",
      " '/global/cfs/cdirs/cosmo/data/legacysurvey/dr10/south/sweep/10.0/sweep-150p000-155p005.fits'\n",
      " '/global/cfs/cdirs/cosmo/data/legacysurvey/dr10/south/sweep/10.0/sweep-175m005-180p000.fits'\n",
      " '/global/cfs/cdirs/cosmo/data/legacysurvey/dr10/south/sweep/10.0/sweep-210p030-215p035.fits'\n",
      " '/global/cfs/cdirs/cosmo/data/legacysurvey/dr10/south/sweep/10.0/sweep-205p000-210p005.fits'\n",
      " '/global/cfs/cdirs/cosmo/data/legacysurvey/dr10/south/sweep/10.0/sweep-180p000-185p005.fits'\n",
      " '/global/cfs/cdirs/cosmo/data/legacysurvey/dr10/south/sweep/10.0/sweep-195p020-200p025.fits'\n",
      " '/global/cfs/cdirs/cosmo/data/legacysurvey/dr10/south/sweep/10.0/sweep-215p030-220p035.fits'\n",
      " '/global/cfs/cdirs/cosmo/data/legacysurvey/dr10/south/sweep/10.0/sweep-250p035-255p040.fits'\n",
      " '/global/cfs/cdirs/cosmo/data/legacysurvey/dr10/south/sweep/10.0/sweep-205p005-210p010.fits'\n",
      " '/global/cfs/cdirs/cosmo/data/legacysurvey/dr10/south/sweep/10.0/sweep-245p030-250p035.fits'\n",
      " '/global/cfs/cdirs/cosmo/data/legacysurvey/dr10/south/sweep/10.0/sweep-145p000-150p005.fits'\n",
      " '/global/cfs/cdirs/cosmo/data/legacysurvey/dr10/south/sweep/10.0/sweep-215p035-220p040.fits'\n",
      " '/global/cfs/cdirs/cosmo/data/legacysurvey/dr10/south/sweep/10.0/sweep-220p000-225p005.fits'\n",
      " '/global/cfs/cdirs/cosmo/data/legacysurvey/dr10/south/sweep/10.0/sweep-220p035-225p040.fits'\n",
      " '/global/cfs/cdirs/cosmo/data/legacysurvey/dr10/south/sweep/10.0/sweep-255p030-260p035.fits'\n",
      " '/global/cfs/cdirs/cosmo/data/legacysurvey/dr10/south/sweep/10.0/sweep-195p025-200p030.fits'\n",
      " '/global/cfs/cdirs/cosmo/data/legacysurvey/dr10/south/sweep/10.0/sweep-220m005-225p000.fits'\n",
      " '/global/cfs/cdirs/cosmo/data/legacysurvey/dr10/south/sweep/10.0/sweep-210p005-215p010.fits'\n",
      " '/global/cfs/cdirs/cosmo/data/legacysurvey/dr10/south/sweep/10.0/sweep-215m005-220p000.fits'\n",
      " '/global/cfs/cdirs/cosmo/data/legacysurvey/dr10/south/sweep/10.0/sweep-210m005-215p000.fits'\n",
      " '/global/cfs/cdirs/cosmo/data/legacysurvey/dr10/south/sweep/10.0/sweep-195p030-200p035.fits'\n",
      " '/global/cfs/cdirs/cosmo/data/legacysurvey/dr10/south/sweep/10.0/sweep-180m005-185p000.fits'\n",
      " '/global/cfs/cdirs/cosmo/data/legacysurvey/dr10/south/sweep/10.0/sweep-175p000-180p005.fits'\n",
      " '/global/cfs/cdirs/cosmo/data/legacysurvey/dr10/south/sweep/10.0/sweep-190p020-195p025.fits'\n",
      " '/global/cfs/cdirs/cosmo/data/legacysurvey/dr10/south/sweep/10.0/sweep-220p030-225p035.fits'\n",
      " '/global/cfs/cdirs/cosmo/data/legacysurvey/dr10/south/sweep/10.0/sweep-190p030-195p035.fits'\n",
      " '/global/cfs/cdirs/cosmo/data/legacysurvey/dr10/south/sweep/10.0/sweep-250p030-255p035.fits']\n"
     ]
    },
    {
     "name": "stderr",
     "output_type": "stream",
     "text": [
      "/tmp/ipykernel_1915326/2913000073.py:65: RuntimeWarning: divide by zero encountered in log10\n",
      "  mag_r = 22.5 - 2.5*np.log10(flux_r[good])\n",
      "/tmp/ipykernel_1915326/2913000073.py:65: RuntimeWarning: invalid value encountered in log10\n",
      "  mag_r = 22.5 - 2.5*np.log10(flux_r[good])\n"
     ]
    },
    {
     "name": "stdout",
     "output_type": "stream",
     "text": [
      "/global/cfs/cdirs/cosmo/data/legacysurvey/dr10/south/sweep/10.0/sweep-190p025-195p030.fits 448433\n",
      "/global/cfs/cdirs/cosmo/data/legacysurvey/dr10/south/sweep/10.0/sweep-215p000-220p005.fits 949702\n",
      "/global/cfs/cdirs/cosmo/data/legacysurvey/dr10/south/sweep/10.0/sweep-210p000-215p005.fits 385934\n",
      "/global/cfs/cdirs/cosmo/data/legacysurvey/dr10/south/sweep/10.0/sweep-150p000-155p005.fits 344080\n",
      "/global/cfs/cdirs/cosmo/data/legacysurvey/dr10/south/sweep/10.0/sweep-175m005-180p000.fits 206324\n",
      "/global/cfs/cdirs/cosmo/data/legacysurvey/dr10/south/sweep/10.0/sweep-210p030-215p035.fits 0\n",
      "/global/cfs/cdirs/cosmo/data/legacysurvey/dr10/south/sweep/10.0/sweep-205p000-210p005.fits 163238\n",
      "/global/cfs/cdirs/cosmo/data/legacysurvey/dr10/south/sweep/10.0/sweep-180p000-185p005.fits 435474\n",
      "/global/cfs/cdirs/cosmo/data/legacysurvey/dr10/south/sweep/10.0/sweep-195p020-200p025.fits 153598\n",
      "/global/cfs/cdirs/cosmo/data/legacysurvey/dr10/south/sweep/10.0/sweep-215p030-220p035.fits 307333\n",
      "/global/cfs/cdirs/cosmo/data/legacysurvey/dr10/south/sweep/10.0/sweep-250p035-255p040.fits 62157\n",
      "/global/cfs/cdirs/cosmo/data/legacysurvey/dr10/south/sweep/10.0/sweep-205p005-210p010.fits 152606\n",
      "/global/cfs/cdirs/cosmo/data/legacysurvey/dr10/south/sweep/10.0/sweep-245p030-250p035.fits 0\n",
      "/global/cfs/cdirs/cosmo/data/legacysurvey/dr10/south/sweep/10.0/sweep-145p000-150p005.fits 301598\n",
      "/global/cfs/cdirs/cosmo/data/legacysurvey/dr10/south/sweep/10.0/sweep-215p035-220p040.fits 38033\n",
      "/global/cfs/cdirs/cosmo/data/legacysurvey/dr10/south/sweep/10.0/sweep-220p000-225p005.fits 97168\n",
      "/global/cfs/cdirs/cosmo/data/legacysurvey/dr10/south/sweep/10.0/sweep-220p035-225p040.fits 0\n",
      "/global/cfs/cdirs/cosmo/data/legacysurvey/dr10/south/sweep/10.0/sweep-255p030-260p035.fits 0\n",
      "/global/cfs/cdirs/cosmo/data/legacysurvey/dr10/south/sweep/10.0/sweep-195p025-200p030.fits 338650\n",
      "/global/cfs/cdirs/cosmo/data/legacysurvey/dr10/south/sweep/10.0/sweep-220m005-225p000.fits 221754\n",
      "/global/cfs/cdirs/cosmo/data/legacysurvey/dr10/south/sweep/10.0/sweep-210p005-215p010.fits 165126\n",
      "/global/cfs/cdirs/cosmo/data/legacysurvey/dr10/south/sweep/10.0/sweep-215m005-220p000.fits 680355\n",
      "/global/cfs/cdirs/cosmo/data/legacysurvey/dr10/south/sweep/10.0/sweep-210m005-215p000.fits 498667\n",
      "/global/cfs/cdirs/cosmo/data/legacysurvey/dr10/south/sweep/10.0/sweep-195p030-200p035.fits 3677\n",
      "/global/cfs/cdirs/cosmo/data/legacysurvey/dr10/south/sweep/10.0/sweep-180m005-185p000.fits 432077\n",
      "/global/cfs/cdirs/cosmo/data/legacysurvey/dr10/south/sweep/10.0/sweep-175p000-180p005.fits 194194\n",
      "/global/cfs/cdirs/cosmo/data/legacysurvey/dr10/south/sweep/10.0/sweep-190p020-195p025.fits 200507\n",
      "/global/cfs/cdirs/cosmo/data/legacysurvey/dr10/south/sweep/10.0/sweep-220p030-225p035.fits 0\n",
      "/global/cfs/cdirs/cosmo/data/legacysurvey/dr10/south/sweep/10.0/sweep-190p030-195p035.fits 7523\n",
      "/global/cfs/cdirs/cosmo/data/legacysurvey/dr10/south/sweep/10.0/sweep-250p030-255p035.fits 262886\n",
      "7051094 total galaxies\n",
      "334829 total randoms\n"
     ]
    }
   ],
   "source": [
    "legacy_desi()"
   ]
  },
  {
   "cell_type": "markdown",
   "id": "36ed3080-2195-4f8d-9bc3-7e44d7c6a40f",
   "metadata": {},
   "source": [
    "## Plot sky distribution of DESI and Legacy galaxies"
   ]
  },
  {
   "cell_type": "code",
   "execution_count": null,
   "id": "d4991300-b92a-4821-8e2a-04c4269ba38b",
   "metadata": {
    "tags": []
   },
   "outputs": [],
   "source": [
    "path = '/global/cfs/cdirs/desi/public/edr/vac/edr/lss/v2.0/LSScats/clustering/'\n",
    "t = Table.read('/pscratch/sd/l/loveday/Legacy/legacy_desi.fits')\n",
    "print(t.info)\n",
    "plt.scatter(t['RA'], t['DEC'], s=0.1, c=t['ROSETTE'])\n",
    "plt.show()\n",
    "t = Table.read('/pscratch/sd/l/loveday/Legacy/legacy_desi_ran.fits')\n",
    "plt.scatter(t['RA'], t['DEC'], s=0.1, c=t['ROSETTE'])\n",
    "plt.show()\n",
    "t = Table.read(path + 'BGS_ANY_S_clustering.dat.fits')\n",
    "plt.scatter(t['RA'], t['DEC'], s=0.1, c=t['ROSETTE_NUMBER'])\n",
    "# plt.xlim(240, 260)\n",
    "# plt.ylim(32, 36)\n",
    "plt.show()\n"
   ]
  },
  {
   "cell_type": "code",
   "execution_count": 8,
   "id": "62002b07-5bd9-48f5-9902-cbd87388b1c7",
   "metadata": {
    "tags": []
   },
   "outputs": [],
   "source": [
    "def w_plot_mag(nm=5, njack=11, fit_range=[0.01, 5], p0=[0.05, 1.7],\n",
    "               prefix='w_mag/', avgcounts=False, ic_rmax=0):\n",
    "    \"\"\"w(theta) from angular pair counts in redshift bins.\"\"\"\n",
    "\n",
    "    ax = plt.subplot(111)\n",
    "    corr_slices = []\n",
    "    for im in range(nm):\n",
    "        corrs = []\n",
    "        for ijack in range(njack+1):\n",
    "            infile = f'{prefix}RR_J{ijack}.pkl'\n",
    "            (info, RR_counts) = pickle.load(open(infile, 'rb'))\n",
    "            infile = f'{prefix}GG_J{ijack}_m{im}.pkl'\n",
    "            (info, DD_counts) = pickle.load(open(infile, 'rb'))\n",
    "            infile = f'{prefix}GR_J{ijack}_m{im}.pkl'\n",
    "            (info, DR_counts) = pickle.load(open(infile, 'rb'))\n",
    "            corrs.append(\n",
    "                wcorr.Corr1d(info['Ngal'], info['Nran'],\n",
    "                             DD_counts, DR_counts, RR_counts))\n",
    "        corr = corrs[0]\n",
    "        corr.err = np.std(np.array([corrs[i].est for i in range(1, njack+1)]), axis=0)\n",
    "        if ic_rmax > 0:\n",
    "            corr.ic_calc(fit_range, p0, ic_rmax)\n",
    "        corr_slices.append(corr)\n",
    "        color = next(ax._get_lines.prop_cycler)['color']\n",
    "        corr.plot(ax, color=color,\n",
    "                  label=f\"m = [{info['mlo']:2.1f}, {info['mhi']:2.1f}]\")\n",
    "        popt, pcov = corr.fit_w(fit_range, p0, ax, color)\n",
    "        print(popt, pcov)\n",
    "    plt.loglog()\n",
    "    plt.legend()\n",
    "    plt.xlabel(r'$\\theta$ / degrees')\n",
    "    plt.ylabel(r'$w(\\theta)$')\n",
    "    plt.show()\n"
   ]
  },
  {
   "cell_type": "code",
   "execution_count": 11,
   "id": "91d6738d-9da1-4d05-8a63-71012e4ebadc",
   "metadata": {
    "tags": []
   },
   "outputs": [
    {
     "name": "stdout",
     "output_type": "stream",
     "text": [
      "/pscratch/sd/l/loveday/Legacy\n",
      "[0.01481238 1.77998659] [[ 1.25572648e-06 -2.25789237e-05]\n",
      " [-2.25789237e-05  4.49045751e-04]]\n",
      "[0.01106971 1.66423259] [[ 2.72576461e-07 -6.29915510e-06]\n",
      " [-6.29915510e-06  1.66891980e-04]]\n",
      "[0.01036893 1.57481311] [[ 2.90096821e-07 -7.09050384e-06]\n",
      " [-7.09050384e-06  2.12739865e-04]]\n",
      "[0.01524895 1.41820795] [[ 5.45588938e-07 -9.23722972e-06]\n",
      " [-9.23722972e-06  2.23900569e-04]]\n",
      "[0.04732947 1.22709479] [[ 1.18066449e-05 -6.41384937e-05]\n",
      " [-6.41384937e-05  6.34902862e-04]]\n"
     ]
    },
    {
     "data": {
      "image/png": "[encoded data removed]",
      "text/plain": [
       "<Figure size 432x288 with 1 Axes>"
      ]
     },
     "metadata": {
      "needs_background": "light"
     },
     "output_type": "display_data"
    }
   ],
   "source": [
    "%cd /pscratch/sd/l/loveday/Legacy\n",
    "w_plot_mag()"
   ]
  },
  {
   "cell_type": "code",
   "execution_count": 26,
   "id": "3a0302ac-5ae0-4dda-b866-d6e8b9e6d2ef",
   "metadata": {
    "tags": []
   },
   "outputs": [
    {
     "name": "stdout",
     "output_type": "stream",
     "text": [
      "> \u001b[0;32m/tmp/ipykernel_870224/1070764748.py\u001b[0m(39)\u001b[0;36mlegacy_desi\u001b[0;34m()\u001b[0m\n",
      "\u001b[0;32m     37 \u001b[0;31m    \u001b[0;31m# Find sweeps that lie within distance rlim of a rosette\u001b[0m\u001b[0;34m\u001b[0m\u001b[0;34m\u001b[0m\u001b[0m\n",
      "\u001b[0m\u001b[0;32m     38 \u001b[0;31m    \u001b[0midxr\u001b[0m\u001b[0;34m,\u001b[0m \u001b[0midxs\u001b[0m\u001b[0;34m,\u001b[0m \u001b[0md2d\u001b[0m\u001b[0;34m,\u001b[0m \u001b[0md3d\u001b[0m \u001b[0;34m=\u001b[0m \u001b[0mscoords\u001b[0m\u001b[0;34m.\u001b[0m\u001b[0msearch_around_sky\u001b[0m\u001b[0;34m(\u001b[0m\u001b[0mrcoords\u001b[0m\u001b[0;34m,\u001b[0m \u001b[0mrlim\u001b[0m\u001b[0;34m)\u001b[0m\u001b[0;34m\u001b[0m\u001b[0;34m\u001b[0m\u001b[0m\n",
      "\u001b[0m\u001b[0;32m---> 39 \u001b[0;31m    \u001b[0msweeps\u001b[0m \u001b[0;34m=\u001b[0m \u001b[0msweeps\u001b[0m\u001b[0;34m[\u001b[0m\u001b[0midxs\u001b[0m\u001b[0;34m]\u001b[0m\u001b[0;34m\u001b[0m\u001b[0;34m\u001b[0m\u001b[0m\n",
      "\u001b[0m\u001b[0;32m     40 \u001b[0;31m    \u001b[0mprint\u001b[0m\u001b[0;34m(\u001b[0m\u001b[0;34m'Using sweeps: '\u001b[0m\u001b[0;34m,\u001b[0m \u001b[0msweeps\u001b[0m\u001b[0;34m)\u001b[0m\u001b[0;34m\u001b[0m\u001b[0;34m\u001b[0m\u001b[0m\n",
      "\u001b[0m\u001b[0;32m     41 \u001b[0;31m\u001b[0;34m\u001b[0m\u001b[0m\n",
      "\u001b[0m\n"
     ]
    },
    {
     "name": "stdin",
     "output_type": "stream",
     "text": [
      "ipdb>  idxs\n"
     ]
    },
    {
     "name": "stdout",
     "output_type": "stream",
     "text": [
      "array([  49,  620,   59,  165, 1132, 1156,  165, 1132,    6,  957, 1120,\n",
      "       1330,   46,  104,  361, 1006,   60,  238,  664,  795, 1322,   15,\n",
      "         46, 1018, 1043,   15,  756,  973, 1018,   15,  756, 1018,  344,\n",
      "        557,  857, 1365,    6,  166,  957, 1165,   46, 1043])\n"
     ]
    },
    {
     "name": "stdin",
     "output_type": "stream",
     "text": [
      "ipdb>  sweeps[idxs]\n"
     ]
    },
    {
     "name": "stdout",
     "output_type": "stream",
     "text": [
      "*** TypeError: only integer scalar arrays can be converted to a scalar index\n"
     ]
    },
    {
     "name": "stdin",
     "output_type": "stream",
     "text": [
      "ipdb>  idxs.dtype\n"
     ]
    },
    {
     "name": "stdout",
     "output_type": "stream",
     "text": [
      "dtype('int64')\n"
     ]
    },
    {
     "name": "stdin",
     "output_type": "stream",
     "text": [
      "ipdb>  sweeps.shape\n"
     ]
    },
    {
     "name": "stdout",
     "output_type": "stream",
     "text": [
      "*** AttributeError: 'list' object has no attribute 'shape'\n"
     ]
    },
    {
     "name": "stdin",
     "output_type": "stream",
     "text": [
      "ipdb>  sweeps = np.array(sweeps)\n",
      "ipdb>  sweeps.shape\n"
     ]
    },
    {
     "name": "stdout",
     "output_type": "stream",
     "text": [
      "(1436,)\n"
     ]
    },
    {
     "name": "stdin",
     "output_type": "stream",
     "text": [
      "ipdb>  sweeps[idxs]\n"
     ]
    },
    {
     "name": "stdout",
     "output_type": "stream",
     "text": [
      "array(['/global/cfs/cdirs/cosmo/data/legacysurvey/dr10/south/sweep/10.0/sweep-150p000-155p005.fits',\n",
      "       '/global/cfs/cdirs/cosmo/data/legacysurvey/dr10/south/sweep/10.0/sweep-145p000-150p005.fits',\n",
      "       '/global/cfs/cdirs/cosmo/data/legacysurvey/dr10/south/sweep/10.0/sweep-175m005-180p000.fits',\n",
      "       '/global/cfs/cdirs/cosmo/data/legacysurvey/dr10/south/sweep/10.0/sweep-180p000-185p005.fits',\n",
      "       '/global/cfs/cdirs/cosmo/data/legacysurvey/dr10/south/sweep/10.0/sweep-180m005-185p000.fits',\n",
      "       '/global/cfs/cdirs/cosmo/data/legacysurvey/dr10/south/sweep/10.0/sweep-175p000-180p005.fits',\n",
      "       '/global/cfs/cdirs/cosmo/data/legacysurvey/dr10/south/sweep/10.0/sweep-180p000-185p005.fits',\n",
      "       '/global/cfs/cdirs/cosmo/data/legacysurvey/dr10/south/sweep/10.0/sweep-180m005-185p000.fits',\n",
      "       '/global/cfs/cdirs/cosmo/data/legacysurvey/dr10/south/sweep/10.0/sweep-190p025-195p030.fits',\n",
      "       '/global/cfs/cdirs/cosmo/data/legacysurvey/dr10/south/sweep/10.0/sweep-195p025-200p030.fits',\n",
      "       '/global/cfs/cdirs/cosmo/data/legacysurvey/dr10/south/sweep/10.0/sweep-195p030-200p035.fits',\n",
      "       '/global/cfs/cdirs/cosmo/data/legacysurvey/dr10/south/sweep/10.0/sweep-190p030-195p035.fits',\n",
      "       '/global/cfs/cdirs/cosmo/data/legacysurvey/dr10/south/sweep/10.0/sweep-210p000-215p005.fits',\n",
      "       '/global/cfs/cdirs/cosmo/data/legacysurvey/dr10/south/sweep/10.0/sweep-205p000-210p005.fits',\n",
      "       '/global/cfs/cdirs/cosmo/data/legacysurvey/dr10/south/sweep/10.0/sweep-205p005-210p010.fits',\n",
      "       '/global/cfs/cdirs/cosmo/data/legacysurvey/dr10/south/sweep/10.0/sweep-210p005-215p010.fits',\n",
      "       '/global/cfs/cdirs/cosmo/data/legacysurvey/dr10/south/sweep/10.0/sweep-210p030-215p035.fits',\n",
      "       '/global/cfs/cdirs/cosmo/data/legacysurvey/dr10/south/sweep/10.0/sweep-215p030-220p035.fits',\n",
      "       '/global/cfs/cdirs/cosmo/data/legacysurvey/dr10/south/sweep/10.0/sweep-215p035-220p040.fits',\n",
      "       '/global/cfs/cdirs/cosmo/data/legacysurvey/dr10/south/sweep/10.0/sweep-220p035-225p040.fits',\n",
      "       '/global/cfs/cdirs/cosmo/data/legacysurvey/dr10/south/sweep/10.0/sweep-220p030-225p035.fits',\n",
      "       '/global/cfs/cdirs/cosmo/data/legacysurvey/dr10/south/sweep/10.0/sweep-215p000-220p005.fits',\n",
      "       '/global/cfs/cdirs/cosmo/data/legacysurvey/dr10/south/sweep/10.0/sweep-210p000-215p005.fits',\n",
      "       '/global/cfs/cdirs/cosmo/data/legacysurvey/dr10/south/sweep/10.0/sweep-215m005-220p000.fits',\n",
      "       '/global/cfs/cdirs/cosmo/data/legacysurvey/dr10/south/sweep/10.0/sweep-210m005-215p000.fits',\n",
      "       '/global/cfs/cdirs/cosmo/data/legacysurvey/dr10/south/sweep/10.0/sweep-215p000-220p005.fits',\n",
      "       '/global/cfs/cdirs/cosmo/data/legacysurvey/dr10/south/sweep/10.0/sweep-220p000-225p005.fits',\n",
      "       '/global/cfs/cdirs/cosmo/data/legacysurvey/dr10/south/sweep/10.0/sweep-220m005-225p000.fits',\n",
      "       '/global/cfs/cdirs/cosmo/data/legacysurvey/dr10/south/sweep/10.0/sweep-215m005-220p000.fits',\n",
      "       '/global/cfs/cdirs/cosmo/data/legacysurvey/dr10/south/sweep/10.0/sweep-215p000-220p005.fits',\n",
      "       '/global/cfs/cdirs/cosmo/data/legacysurvey/dr10/south/sweep/10.0/sweep-220p000-225p005.fits',\n",
      "       '/global/cfs/cdirs/cosmo/data/legacysurvey/dr10/south/sweep/10.0/sweep-215m005-220p000.fits',\n",
      "       '/global/cfs/cdirs/cosmo/data/legacysurvey/dr10/south/sweep/10.0/sweep-250p035-255p040.fits',\n",
      "       '/global/cfs/cdirs/cosmo/data/legacysurvey/dr10/south/sweep/10.0/sweep-245p030-250p035.fits',\n",
      "       '/global/cfs/cdirs/cosmo/data/legacysurvey/dr10/south/sweep/10.0/sweep-255p030-260p035.fits',\n",
      "       '/global/cfs/cdirs/cosmo/data/legacysurvey/dr10/south/sweep/10.0/sweep-250p030-255p035.fits',\n",
      "       '/global/cfs/cdirs/cosmo/data/legacysurvey/dr10/south/sweep/10.0/sweep-190p025-195p030.fits',\n",
      "       '/global/cfs/cdirs/cosmo/data/legacysurvey/dr10/south/sweep/10.0/sweep-195p020-200p025.fits',\n",
      "       '/global/cfs/cdirs/cosmo/data/legacysurvey/dr10/south/sweep/10.0/sweep-195p025-200p030.fits',\n",
      "       '/global/cfs/cdirs/cosmo/data/legacysurvey/dr10/south/sweep/10.0/sweep-190p020-195p025.fits',\n",
      "       '/global/cfs/cdirs/cosmo/data/legacysurvey/dr10/south/sweep/10.0/sweep-210p000-215p005.fits',\n",
      "       '/global/cfs/cdirs/cosmo/data/legacysurvey/dr10/south/sweep/10.0/sweep-210m005-215p000.fits'],\n",
      "      dtype='<U90')\n"
     ]
    },
    {
     "name": "stdin",
     "output_type": "stream",
     "text": [
      "ipdb>  q\n"
     ]
    }
   ],
   "source": [
    "pdb.pm()"
   ]
  },
  {
   "cell_type": "markdown",
   "id": "7be843d1-5a7b-4809-96ce-c6621991b7c3",
   "metadata": {},
   "source": [
    "Plot Legacy sweep locations"
   ]
  },
  {
   "cell_type": "code",
   "execution_count": 29,
   "id": "f3cefec7-baf3-4a7c-a760-45cada6c0f2a",
   "metadata": {
    "tags": []
   },
   "outputs": [
    {
     "ename": "NameError",
     "evalue": "name 't' is not defined",
     "output_type": "error",
     "traceback": [
      "\u001b[0;31m---------------------------------------------------------------------------\u001b[0m",
      "\u001b[0;31mNameError\u001b[0m                                 Traceback (most recent call last)",
      "\u001b[0;32m/tmp/ipykernel_870224/1033481530.py\u001b[0m in \u001b[0;36m<module>\u001b[0;34m\u001b[0m\n\u001b[0;32m----> 1\u001b[0;31m \u001b[0mt\u001b[0m\u001b[0;34m.\u001b[0m\u001b[0mwrite\u001b[0m\u001b[0;34m(\u001b[0m\u001b[0mgalout\u001b[0m\u001b[0;34m)\u001b[0m\u001b[0;34m\u001b[0m\u001b[0;34m\u001b[0m\u001b[0m\n\u001b[0m\u001b[1;32m      2\u001b[0m \u001b[0mprint\u001b[0m\u001b[0;34m(\u001b[0m\u001b[0mlen\u001b[0m\u001b[0;34m(\u001b[0m\u001b[0mra\u001b[0m\u001b[0;34m)\u001b[0m\u001b[0;34m,\u001b[0m \u001b[0;34m'total galaxies'\u001b[0m\u001b[0;34m)\u001b[0m\u001b[0;34m\u001b[0m\u001b[0;34m\u001b[0m\u001b[0m\n\u001b[1;32m      3\u001b[0m \u001b[0;34m\u001b[0m\u001b[0m\n\u001b[1;32m      4\u001b[0m \u001b[0;31m# Now the randoms\u001b[0m\u001b[0;34m\u001b[0m\u001b[0;34m\u001b[0m\u001b[0m\n\u001b[1;32m      5\u001b[0m \u001b[0mra\u001b[0m\u001b[0;34m,\u001b[0m \u001b[0mdec\u001b[0m \u001b[0;34m=\u001b[0m \u001b[0mnp\u001b[0m\u001b[0;34m.\u001b[0m\u001b[0marray\u001b[0m\u001b[0;34m(\u001b[0m\u001b[0;34m(\u001b[0m\u001b[0;34m)\u001b[0m\u001b[0;34m)\u001b[0m\u001b[0;34m,\u001b[0m \u001b[0mnp\u001b[0m\u001b[0;34m.\u001b[0m\u001b[0marray\u001b[0m\u001b[0;34m(\u001b[0m\u001b[0;34m(\u001b[0m\u001b[0;34m)\u001b[0m\u001b[0;34m)\u001b[0m\u001b[0;34m\u001b[0m\u001b[0;34m\u001b[0m\u001b[0m\n",
      "\u001b[0;31mNameError\u001b[0m: name 't' is not defined"
     ]
    }
   ],
   "source": [
    "t.write(galout)\n",
    "print(len(ra), 'total galaxies')\n",
    "    \n",
    "# Now the randoms\n",
    "ra, dec = np.array(()), np.array(())\n",
    "path = '/global/cfs/cdirs/cosmo/data/legacysurvey/dr10/south/randoms/'\n",
    "t = Table.read(path + ranfile)\n",
    "gcoords = SkyCoord(t['RA'], t['DEC'], frame='icrs', unit='deg')\n",
    "idxr, idxg, d2d, d3d = gcoords.search_around_sky(rcoords, r_radius)\n",
    "ra = np.hstack((ra, t['RA'][idxg]))\n",
    "dec = np.hstack((dec, t['DEC'][idxg]))\n",
    "t = Table((ra, dec), names=('RA', 'DEC'))\n",
    "t.write(ranout)\n",
    "print(len(ra), 'total randoms')\n"
   ]
  },
  {
   "cell_type": "code",
   "execution_count": null,
   "id": "0cfc88c5-d6de-48dd-a92e-37a11ac20da4",
   "metadata": {},
   "outputs": [],
   "source": []
  }
 ],
 "metadata": {
  "kernelspec": {
   "display_name": "JonEnvironment",
   "language": "python",
   "name": "jon"
  },
  "language_info": {
   "codemirror_mode": {
    "name": "ipython",
    "version": 3
   },
   "file_extension": ".py",
   "mimetype": "text/x-python",
   "name": "python",
   "nbconvert_exporter": "python",
   "pygments_lexer": "ipython3",
   "version": "3.9.7"
  }
 },
 "nbformat": 4,
 "nbformat_minor": 5
}
